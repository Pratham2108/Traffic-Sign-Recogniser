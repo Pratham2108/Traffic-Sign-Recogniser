{
 "cells": [
  {
   "cell_type": "code",
   "execution_count": 1,
   "metadata": {},
   "outputs": [],
   "source": [
    "import numpy as np\n",
    "import pandas as pd\n",
    "import matplotlib.pyplot as plt\n",
    "import tensorflow as tf \n",
    "from PIL import Image\n",
    "import os \n",
    "from sklearn.model_selection import train_test_split \n",
    "from keras.utils import to_categorical \n",
    "from keras.models import Sequential \n",
    "from keras.layers import Conv2D, MaxPool2D, Dense, Flatten, Dropout\n",
    "data = []\n",
    "labels = []\n",
    "classes = 43 \n",
    "cur_path = os.getcwd() \n",
    "for i in range(classes): \n",
    "    path = os. path.join(cur_path,'train', str(i)) \n",
    "    images = os.listdir(path) \n",
    "    for a in images: \n",
    "        try: \n",
    "            image = Image.open(path + \"\\\\\"+ a)\n",
    "            image = image.resize((30,30)) \n",
    "            image = np.array(image) \n",
    "            data.append(image) \n",
    "            labels.append(i) \n",
    "        except: \n",
    "            print(\"Error loading image\") \n",
    "data = np.array(data)\n",
    "labels = np.array(labels)\n"
   ]
  },
  {
   "cell_type": "code",
   "execution_count": 2,
   "metadata": {},
   "outputs": [
    {
     "name": "stdout",
     "output_type": "stream",
     "text": [
      "(39209, 30, 30, 3) (39209,)\n",
      "(31367, 30, 30, 3) (7842, 30, 30, 3) (31367,) (7842,)\n"
     ]
    }
   ],
   "source": [
    "print(data.shape, labels.shape)\n",
    "#Splitting training and testing dataset\n",
    "X_t1, X_t2, y_t1, y_t2 = train_test_split(data, labels, test_size=0.2, random_state=42)\n",
    "print(X_t1.shape, X_t2.shape, y_t1.shape, y_t2.shape)\n"
   ]
  },
  {
   "cell_type": "code",
   "execution_count": 3,
   "metadata": {},
   "outputs": [],
   "source": [
    "#Converting the labels into one hot encoding\n",
    "y_t1 = to_categorical(y_t1, 43)\n",
    "y_t2 = to_categorical(y_t2, 43)\n"
   ]
  },
  {
   "cell_type": "code",
   "execution_count": 4,
   "metadata": {},
   "outputs": [],
   "source": [
    "#Building the model\n",
    "model = Sequential()\n",
    "model.add(Conv2D(filters=32, kernel_size=(5,5), activation='relu', input_shape=X_t1.shape[1:]))\n",
    "model.add(Conv2D(filters=32, kernel_size=(5,5), activation='relu'))\n",
    "model.add(MaxPool2D(pool_size=(2, 2)))\n",
    "model.add(Dropout(rate=0.25))\n",
    "model.add(Conv2D(filters=64, kernel_size=(3, 3), activation='relu'))\n",
    "model.add(Conv2D(filters=64, kernel_size=(3, 3), activation='relu'))\n",
    "model.add(MaxPool2D(pool_size=(2, 2)))\n",
    "model.add(Dropout(rate=0.25))\n",
    "model.add(Flatten())\n",
    "model.add(Dense(256, activation='relu'))\n",
    "model.add(Dropout(rate=0.5))\n",
    "model.add(Dense(43, activation='softmax'))\n",
    "#Compilation of the model\n",
    "model.compile(loss='categorical_crossentropy', optimizer='adam', metrics=['accuracy'])"
   ]
  },
  {
   "cell_type": "code",
   "execution_count": 5,
   "metadata": {},
   "outputs": [
    {
     "name": "stdout",
     "output_type": "stream",
     "text": [
      "Epoch 1/15\n",
      "981/981 [==============================] - 88s 89ms/step - loss: 1.9321 - accuracy: 0.4950 - val_loss: 0.5103 - val_accuracy: 0.8757\n",
      "Epoch 2/15\n",
      "981/981 [==============================] - 95s 97ms/step - loss: 0.5899 - accuracy: 0.8254 - val_loss: 0.2155 - val_accuracy: 0.9457\n",
      "Epoch 3/15\n",
      "981/981 [==============================] - 61s 63ms/step - loss: 0.3728 - accuracy: 0.8911 - val_loss: 0.1138 - val_accuracy: 0.9714\n",
      "Epoch 4/15\n",
      "981/981 [==============================] - 75s 76ms/step - loss: 0.3025 - accuracy: 0.9128 - val_loss: 0.1040 - val_accuracy: 0.9753\n",
      "Epoch 5/15\n",
      "981/981 [==============================] - 63s 65ms/step - loss: 0.2825 - accuracy: 0.9206 - val_loss: 0.0778 - val_accuracy: 0.9792\n",
      "Epoch 6/15\n",
      "981/981 [==============================] - 62s 63ms/step - loss: 0.2476 - accuracy: 0.9314 - val_loss: 0.0794 - val_accuracy: 0.9786\n",
      "Epoch 7/15\n",
      "981/981 [==============================] - 63s 64ms/step - loss: 0.2147 - accuracy: 0.9403 - val_loss: 0.0588 - val_accuracy: 0.9847\n",
      "Epoch 8/15\n",
      "981/981 [==============================] - 64s 65ms/step - loss: 0.2127 - accuracy: 0.9433 - val_loss: 0.0737 - val_accuracy: 0.9814\n",
      "Epoch 9/15\n",
      "981/981 [==============================] - 63s 65ms/step - loss: 0.1987 - accuracy: 0.9460 - val_loss: 0.0485 - val_accuracy: 0.9875\n",
      "Epoch 10/15\n",
      "981/981 [==============================] - 64s 65ms/step - loss: 0.1996 - accuracy: 0.9472 - val_loss: 0.0518 - val_accuracy: 0.9870\n",
      "Epoch 11/15\n",
      "981/981 [==============================] - 62s 64ms/step - loss: 0.2338 - accuracy: 0.9411 - val_loss: 0.0511 - val_accuracy: 0.9871\n",
      "Epoch 12/15\n",
      "981/981 [==============================] - 62s 64ms/step - loss: 0.1914 - accuracy: 0.9508 - val_loss: 0.0642 - val_accuracy: 0.9820\n",
      "Epoch 13/15\n",
      "981/981 [==============================] - 63s 64ms/step - loss: 0.2212 - accuracy: 0.9446 - val_loss: 0.0474 - val_accuracy: 0.9878\n",
      "Epoch 14/15\n",
      "981/981 [==============================] - 93s 95ms/step - loss: 0.1947 - accuracy: 0.9518 - val_loss: 0.0566 - val_accuracy: 0.9865\n",
      "Epoch 15/15\n",
      "981/981 [==============================] - 93s 94ms/step - loss: 0.2002 - accuracy: 0.9498 - val_loss: 0.0487 - val_accuracy: 0.9874\n"
     ]
    }
   ],
   "source": [
    "eps = 15\n",
    "anc = model.fit(X_t1, y_t1, batch_size=32, epochs=eps, validation_data=(X_t2, y_t2))\n"
   ]
  },
  {
   "cell_type": "code",
   "execution_count": 6,
   "metadata": {},
   "outputs": [
    {
     "data": {
      "image/png": "[encoded data removed]",
      "text/plain": [
       "<Figure size 432x288 with 1 Axes>"
      ]
     },
     "metadata": {
      "needs_background": "light"
     },
     "output_type": "display_data"
    }
   ],
   "source": [
    "# accuracy \n",
    "plt.figure(0)\n",
    "plt.plot(anc.history['accuracy'], label='training accuracy')\n",
    "plt.plot(anc.history['val_accuracy'], label='val accuracy')\n",
    "plt.title('Accuracy')\n",
    "plt.xlabel('epochs')\n",
    "plt.ylabel('accuracy')\n",
    "plt.legend()\n",
    "plt.show()\n"
   ]
  },
  {
   "cell_type": "code",
   "execution_count": 7,
   "metadata": {},
   "outputs": [],
   "source": [
    "def testing(testcsv):\n",
    "    y_test = pd.read_csv(testcsv)\n",
    "    label = y_test[\"ClassId\"].values\n",
    "    imgs = y_test[\"Path\"].values\n",
    "    data=[]\n",
    "    for img in imgs:\n",
    "        image = Image.open(img)\n",
    "        image = image.resize((30,30))\n",
    "        data.append(np.array(image))\n",
    "    X_test=np.array(data)\n",
    "    return X_test,label\n"
   ]
  },
  {
   "cell_type": "code",
   "execution_count": 8,
   "metadata": {},
   "outputs": [
    {
     "name": "stdout",
     "output_type": "stream",
     "text": [
      "395/395 [==============================] - 5s 12ms/step\n"
     ]
    },
    {
     "data": {
      "text/plain": [
       "array([16,  1, 38, ...,  6,  7, 10], dtype=int64)"
      ]
     },
     "execution_count": 8,
     "metadata": {},
     "output_type": "execute_result"
    }
   ],
   "source": [
    "X_test, label = testing('Test.csv')\n",
    "Y_pred = model.predict(X_test)\n",
    "Y_pred = np.argmax(Y_pred,axis=1)\n",
    "Y_pred\n"
   ]
  },
  {
   "cell_type": "code",
   "execution_count": 9,
   "metadata": {},
   "outputs": [
    {
     "name": "stdout",
     "output_type": "stream",
     "text": [
      "0.9570863024544735\n"
     ]
    }
   ],
   "source": [
    "#Accuracy with the test data\n",
    "from sklearn.metrics import accuracy_score\n",
    "print(accuracy_score(label, Y_pred))\n"
   ]
  },
  {
   "cell_type": "code",
   "execution_count": 136,
   "metadata": {},
   "outputs": [],
   "source": [
    "model = load_model('traffic_classifier.h5')\n",
    "#dictionary to label all traffic signs class.\n",
    "classes = { 1:'Speed limit (20km/h)',\n",
    "           2:'Speed limit (30km/h)',\n",
    "           3:'Speed limit (50km/h)',\n",
    "           4:'Speed limit (60km/h)',\n",
    "           5:'Speed limit (70km/h)',\n",
    "           6:'Speed limit (80km/h)',\n",
    "           7:'End of speed limit (80km/h)',\n",
    "           8:'Speed limit (100km/h)',\n",
    "           9:'Speed limit (120km/h)',\n",
    "           10:'No passing',\n",
    "           11:'No passing veh over 3.5 tons',\n",
    "           12:'Right-of-way at intersection',\n",
    "           13:'Priority road',\n",
    "           14:'Yield',\n",
    "           15:'Stop',\n",
    "           16:'No vehicles',\n",
    "           17:'Veh > 3.5 tons prohibited',\n",
    "           18:'No entry',\n",
    "           19:'General caution',\n",
    "           20:'Dangerous curve left',\n",
    "           21:'Dangerous curve right',\n",
    "           22:'Double curve',\n",
    "           23:'Bumpy road',\n",
    "           24:'Slippery road',\n",
    "           25:'Road narrows on the right',\n",
    "           26:'Road work',\n",
    "           27:'Traffic signals',\n",
    "           28:'Pedestrians',\n",
    "           29:'Children crossing',\n",
    "           30:'Bicycles crossing',\n",
    "           31:'Beware of ice/snow',\n",
    "           32:'Wild animals crossing',\n",
    "           33:'End speed + passing limits',\n",
    "           34:'Turn right ahead',\n",
    "           35:'Turn left ahead',\n",
    "           36:'Ahead only',\n",
    "           37:'Go straight or right',\n",
    "           38:'Go straight or left',\n",
    "           39:'Keep right',\n",
    "           40:'Keep left',\n",
    "           41:'Roundabout mandatory',\n",
    "           42:'End of no passing',\n",
    "           43:'End no passing vehicle with a weight greater than 3.5 tons' }\n"
   ]
  },
  {
   "cell_type": "code",
   "execution_count": 137,
   "metadata": {},
   "outputs": [],
   "source": [
    "#initialise GUI\n",
    "top=tk.Tk()\n",
    "top.geometry('800x600')\n",
    "top.title('Traffic sign classification')\n",
    "top.configure(background='#CDCDCD')\n",
    "\n",
    "label=Label(top,background='#CDCDCD', font=('arial',15,'bold'))\n",
    "sign_image = Label(top)\n"
   ]
  },
  {
   "cell_type": "code",
   "execution_count": 138,
   "metadata": {},
   "outputs": [],
   "source": [
    "def classify(file_path):\n",
    "    global label_packed\n",
    "    data=[]\n",
    "    image = Image.open(file_path)\n",
    "    image = image.resize((30,30))\n",
    "    data.append(np.array(image))\n",
    "    X_test=np.array(data)\n",
    "    Y_pred = model.predict(X_test)\n",
    "    Y_pred = np.argmax(Y_pred,axis=1)\n",
    "    s = [str(i) for i in Y_pred]\n",
    "    a = int(\"\".join(s))\n",
    "    sign = classes[a+1]\n",
    "    print(sign)\n",
    "    label.configure(foreground='#011638', text=sign) \n",
    "    plt.imshow(plot)\n",
    "    plt.show()\n",
    "\n",
    "def show_classify_button(file_path):\n",
    "    classify_b=Button(top,text=\"Classify Image\",command=lambda: classify(file_path),padx=10,pady=5)\n",
    "    classify_b.configure(background='#364156', foreground='white',font=('arial',10,'bold'))\n",
    "    classify_b.place(relx=0.79,rely=0.46)\n",
    "\n",
    "def upload_image():\n",
    "    try:\n",
    "        file_path=filedialog.askopenfilename()\n",
    "        uploaded=Image.open(file_path)\n",
    "        uploaded.thumbnail(((top.winfo_width()/2.25),(top.winfo_height()/2.25)))\n",
    "        im=ImageTk.PhotoImage(uploaded)\n",
    "\n",
    "        sign_image.configure(image=im)\n",
    "        sign_image.image=im\n",
    "        label.configure(text='')\n",
    "        show_classify_button(file_path)\n",
    "    except:\n",
    "        pass\n"
   ]
  },
  {
   "cell_type": "code",
   "execution_count": 139,
   "metadata": {},
   "outputs": [
    {
     "name": "stdout",
     "output_type": "stream",
     "text": [
      "1/1 [==============================] - 0s 147ms/step\n",
      "Right-of-way at intersection\n"
     ]
    },
    {
     "data": {
      "image/png": "[encoded data removed]",
      "text/plain": [
       "<Figure size 432x288 with 1 Axes>"
      ]
     },
     "metadata": {
      "needs_background": "light"
     },
     "output_type": "display_data"
    },
    {
     "data": {
      "image/png": "[encoded data removed]",
      "text/plain": [
       "<Figure size 432x288 with 1 Axes>"
      ]
     },
     "metadata": {
      "needs_background": "light"
     },
     "output_type": "display_data"
    }
   ],
   "source": [
    "upload=Button(top,text=\"Upload an image\",command=upload_image,padx=10,pady=5)\n",
    "upload.configure(background='#364156', foreground='white',font=('arial',10,'bold'))\n",
    "\n",
    "upload.pack(side=BOTTOM,pady=50)\n",
    "sign_image.pack(side=BOTTOM,expand=True)\n",
    "label.pack(side=BOTTOM,expand=True)\n",
    "heading = Label(top, text=\"Know Your Traffic Sign\",pady=20, font=('arial',20,'bold'))\n",
    "heading.configure(background='#CDCDCD',foreground='#364156')\n",
    "heading.pack()\n",
    "top.mainloop()\n",
    "\n",
    "plt.imshow(plot)\n",
    "plt.show()"
   ]
  }
 ],
 "metadata": {
  "kernelspec": {
   "display_name": "Python 3",
   "language": "python",
   "name": "python3"
  },
  "language_info": {
   "codemirror_mode": {
    "name": "ipython",
    "version": 3
   },
   "file_extension": ".py",
   "mimetype": "text/x-python",
   "name": "python",
   "nbconvert_exporter": "python",
   "pygments_lexer": "ipython3",
   "version": "3.8.5"
  }
 },
 "nbformat": 4,
 "nbformat_minor": 4
}
